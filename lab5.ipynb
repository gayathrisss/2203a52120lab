{
  "nbformat": 4,
  "nbformat_minor": 0,
  "metadata": {
    "colab": {
      "provenance": []
    },
    "kernelspec": {
      "name": "python3",
      "display_name": "Python 3"
    },
    "language_info": {
      "name": "python"
    }
  },
  "cells": [
    {
      "cell_type": "code",
      "execution_count": null,
      "metadata": {
        "colab": {
          "base_uri": "https://localhost:8080/"
        },
        "id": "y3oUuvVr_0WF",
        "outputId": "cbe05a8d-8e1b-426f-fc50-610b1ad356ea"
      },
      "outputs": [
        {
          "output_type": "stream",
          "name": "stdout",
          "text": [
            "     Age  Gender  Protein1  Protein2  Protein3  Protein4 Tumour_Stage  \\\n",
            "0     42  FEMALE  0.952560   2.15000  0.007972 -0.048340           II   \n",
            "1     54  FEMALE  0.000000   1.38020 -0.498030 -0.507320           II   \n",
            "2     63  FEMALE -0.523030   1.76400 -0.370190  0.010815           II   \n",
            "3     78  FEMALE -0.876180   0.12943 -0.370380  0.132190            I   \n",
            "4     42  FEMALE  0.226110   1.74910 -0.543970 -0.390210           II   \n",
            "..   ...     ...       ...       ...       ...       ...          ...   \n",
            "329   59  FEMALE  0.024598   1.40050  0.024751  0.280320           II   \n",
            "330   41  FEMALE  0.100120  -0.46547  0.472370 -0.523870            I   \n",
            "331   54  FEMALE  0.753820   1.64250 -0.332850  0.857860           II   \n",
            "332   74  FEMALE  0.972510   1.42680 -0.366570 -0.107820           II   \n",
            "333   66  FEMALE  0.286380   1.39980  0.318830  0.836050           II   \n",
            "\n",
            "                          Histology ER status PR status HER2 status  \\\n",
            "0     Infiltrating Ductal Carcinoma  Positive  Positive    Negative   \n",
            "1     Infiltrating Ductal Carcinoma  Positive  Positive    Negative   \n",
            "2     Infiltrating Ductal Carcinoma  Positive  Positive    Negative   \n",
            "3     Infiltrating Ductal Carcinoma  Positive  Positive    Negative   \n",
            "4     Infiltrating Ductal Carcinoma  Positive  Positive    Positive   \n",
            "..                              ...       ...       ...         ...   \n",
            "329   Infiltrating Ductal Carcinoma  Positive  Positive    Positive   \n",
            "330   Infiltrating Ductal Carcinoma  Positive  Positive    Positive   \n",
            "331   Infiltrating Ductal Carcinoma  Positive  Positive    Negative   \n",
            "332  Infiltrating Lobular Carcinoma  Positive  Positive    Negative   \n",
            "333   Infiltrating Ductal Carcinoma  Positive  Positive    Negative   \n",
            "\n",
            "                    Surgery_type Date_of_Surgery Date_of_Last_Visit  \\\n",
            "0                          Other       20-May-18          26-Aug-18   \n",
            "1                          Other       26-Apr-18          25-Jan-19   \n",
            "2                     Lumpectomy       24-Aug-18          08-Apr-20   \n",
            "3                          Other       16-Nov-18          28-Jul-20   \n",
            "4                     Lumpectomy       12-Dec-18          05-Jan-19   \n",
            "..                           ...             ...                ...   \n",
            "329                   Lumpectomy       15-Jan-19          27-Mar-20   \n",
            "330  Modified Radical Mastectomy       25-Jul-18          23-Apr-19   \n",
            "331            Simple Mastectomy       26-Mar-19          11-Oct-19   \n",
            "332                   Lumpectomy       26-Nov-18          05-Dec-18   \n",
            "333  Modified Radical Mastectomy       04-Feb-19          10-Aug-19   \n",
            "\n",
            "    Patient_Status  \n",
            "0            Alive  \n",
            "1             Dead  \n",
            "2            Alive  \n",
            "3            Alive  \n",
            "4            Alive  \n",
            "..             ...  \n",
            "329          Alive  \n",
            "330          Alive  \n",
            "331           Dead  \n",
            "332          Alive  \n",
            "333           Dead  \n",
            "\n",
            "[334 rows x 15 columns]\n",
            "       Age  Gender  Protein1  Protein2  Protein3  Protein4  Tumour_Stage  \\\n",
            "0    False   False     False     False     False     False         False   \n",
            "1    False   False     False     False     False     False         False   \n",
            "2    False   False     False     False     False     False         False   \n",
            "3    False   False     False     False     False     False         False   \n",
            "4    False   False     False     False     False     False         False   \n",
            "..     ...     ...       ...       ...       ...       ...           ...   \n",
            "329  False   False     False     False     False     False         False   \n",
            "330  False   False     False     False     False     False         False   \n",
            "331  False   False     False     False     False     False         False   \n",
            "332  False   False     False     False     False     False         False   \n",
            "333  False   False     False     False     False     False         False   \n",
            "\n",
            "     Histology  ER status  PR status  HER2 status  Surgery_type  \\\n",
            "0        False      False      False        False         False   \n",
            "1        False      False      False        False         False   \n",
            "2        False      False      False        False         False   \n",
            "3        False      False      False        False         False   \n",
            "4        False      False      False        False         False   \n",
            "..         ...        ...        ...          ...           ...   \n",
            "329      False      False      False        False         False   \n",
            "330      False      False      False        False         False   \n",
            "331      False      False      False        False         False   \n",
            "332      False      False      False        False         False   \n",
            "333      False      False      False        False         False   \n",
            "\n",
            "     Date_of_Surgery  Date_of_Last_Visit  Patient_Status  \n",
            "0              False               False           False  \n",
            "1              False               False           False  \n",
            "2              False               False           False  \n",
            "3              False               False           False  \n",
            "4              False               False           False  \n",
            "..               ...                 ...             ...  \n",
            "329            False               False           False  \n",
            "330            False               False           False  \n",
            "331            False               False           False  \n",
            "332            False               False           False  \n",
            "333            False               False           False  \n",
            "\n",
            "[334 rows x 15 columns]\n"
          ]
        }
      ],
      "source": [
        "import pandas as pd\n",
        "a=pd.read_csv(\"/content/breast_cancer_survival.csv\")\n",
        "print(a)\n",
        "print(a.isnull())\n",
        "a=a.fillna(0)\n",
        "\n"
      ]
    },
    {
      "cell_type": "code",
      "source": [
        "import pandas as pd\n",
        "c={'Alive':1,'Dead':0}\n",
        "a=a.replace(c)\n",
        "dropping=['Histology','Surgery_type','Date_of_Surgery','Date_of_Last_Visit','Gender','Tumour_Stage','ER status','PR status','HER2 status']\n",
        "d=a.drop(columns=dropping)\n",
        "print(d)\n",
        "y=a[\"Patient_Status\"]\n",
        "print(y)\n",
        "x=d.drop(\"Patient_Status\", axis=1)\n",
        "print(x)"
      ],
      "metadata": {
        "colab": {
          "base_uri": "https://localhost:8080/"
        },
        "id": "KRqp72RkANPo",
        "outputId": "c656d0cd-f5b0-4768-87ab-66345b88a1c3"
      },
      "execution_count": null,
      "outputs": [
        {
          "output_type": "stream",
          "name": "stdout",
          "text": [
            "     Age  Protein1  Protein2  Protein3  Protein4  Patient_Status\n",
            "0     42  0.952560   2.15000  0.007972 -0.048340               1\n",
            "1     54  0.000000   1.38020 -0.498030 -0.507320               0\n",
            "2     63 -0.523030   1.76400 -0.370190  0.010815               1\n",
            "3     78 -0.876180   0.12943 -0.370380  0.132190               1\n",
            "4     42  0.226110   1.74910 -0.543970 -0.390210               1\n",
            "..   ...       ...       ...       ...       ...             ...\n",
            "329   59  0.024598   1.40050  0.024751  0.280320               1\n",
            "330   41  0.100120  -0.46547  0.472370 -0.523870               1\n",
            "331   54  0.753820   1.64250 -0.332850  0.857860               0\n",
            "332   74  0.972510   1.42680 -0.366570 -0.107820               1\n",
            "333   66  0.286380   1.39980  0.318830  0.836050               0\n",
            "\n",
            "[334 rows x 6 columns]\n",
            "0      1\n",
            "1      0\n",
            "2      1\n",
            "3      1\n",
            "4      1\n",
            "      ..\n",
            "329    1\n",
            "330    1\n",
            "331    0\n",
            "332    1\n",
            "333    0\n",
            "Name: Patient_Status, Length: 334, dtype: int64\n",
            "     Age  Protein1  Protein2  Protein3  Protein4\n",
            "0     42  0.952560   2.15000  0.007972 -0.048340\n",
            "1     54  0.000000   1.38020 -0.498030 -0.507320\n",
            "2     63 -0.523030   1.76400 -0.370190  0.010815\n",
            "3     78 -0.876180   0.12943 -0.370380  0.132190\n",
            "4     42  0.226110   1.74910 -0.543970 -0.390210\n",
            "..   ...       ...       ...       ...       ...\n",
            "329   59  0.024598   1.40050  0.024751  0.280320\n",
            "330   41  0.100120  -0.46547  0.472370 -0.523870\n",
            "331   54  0.753820   1.64250 -0.332850  0.857860\n",
            "332   74  0.972510   1.42680 -0.366570 -0.107820\n",
            "333   66  0.286380   1.39980  0.318830  0.836050\n",
            "\n",
            "[334 rows x 5 columns]\n"
          ]
        }
      ]
    },
    {
      "cell_type": "code",
      "source": [
        "from sklearn.metrics import accuracy_score, confusion_matrix\n",
        "import seaborn as sns\n",
        "from sklearn.model_selection import train_test_split\n",
        "from sklearn.linear_model import LogisticRegression\n",
        "x_train, x_test, y_train, y_test = train_test_split(x,y,test_size=0.2,random_state=42)\n",
        "model = LogisticRegression()\n",
        "model.fit(x_train, y_train)\n",
        "y_pred = model.predict(x_test)\n",
        "accuracy = accuracy_score(y_test, y_pred)\n",
        "print(\"Accuracy:\", accuracy)"
      ],
      "metadata": {
        "colab": {
          "base_uri": "https://localhost:8080/"
        },
        "id": "p-BstLAVAk_A",
        "outputId": "1bbbe2a2-544e-4073-da98-3bcb5a50941d"
      },
      "execution_count": null,
      "outputs": [
        {
          "output_type": "stream",
          "name": "stdout",
          "text": [
            "Accuracy: 0.7761194029850746\n"
          ]
        }
      ]
    }
  ]
}